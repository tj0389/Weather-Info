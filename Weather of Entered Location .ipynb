{
 "cells": [
  {
   "cell_type": "code",
   "execution_count": 25,
   "metadata": {},
   "outputs": [],
   "source": [
    "import requests\n",
    "import json"
   ]
  },
  {
   "cell_type": "code",
   "execution_count": 26,
   "metadata": {},
   "outputs": [
    {
     "name": "stdout",
     "output_type": "stream",
     "text": [
      "Enter the Location :London\n"
     ]
    }
   ],
   "source": [
    "loc=input(\"Enter the Location :\")   #we have to create a api key itself\n",
    "url=\"https://samples.openweathermap.org/data/2.5/weather?q=\"+loc+\"&appid=439d4b804bc8187953eb36d2a8c26a02\""
   ]
  },
  {
   "cell_type": "code",
   "execution_count": 27,
   "metadata": {},
   "outputs": [],
   "source": [
    "data=requests.get(url)"
   ]
  },
  {
   "cell_type": "code",
   "execution_count": 28,
   "metadata": {},
   "outputs": [
    {
     "name": "stdout",
     "output_type": "stream",
     "text": [
      "b'{\"coord\":{\"lon\":-0.13,\"lat\":51.51},\"weather\":[{\"id\":300,\"main\":\"Drizzle\",\"description\":\"light intensity drizzle\",\"icon\":\"09d\"}],\"base\":\"stations\",\"main\":{\"temp\":280.32,\"pressure\":1012,\"humidity\":81,\"temp_min\":279.15,\"temp_max\":281.15},\"visibility\":10000,\"wind\":{\"speed\":4.1,\"deg\":80},\"clouds\":{\"all\":90},\"dt\":1485789600,\"sys\":{\"type\":1,\"id\":5091,\"message\":0.0103,\"country\":\"GB\",\"sunrise\":1485762037,\"sunset\":1485794875},\"id\":2643743,\"name\":\"London\",\"cod\":200}'\n",
      "<class 'bytes'>\n"
     ]
    }
   ],
   "source": [
    "print(data.content)  #this data is in bytes so we convert it into json format  \n",
    "print(type(data.content))"
   ]
  },
  {
   "cell_type": "code",
   "execution_count": 29,
   "metadata": {},
   "outputs": [
    {
     "name": "stdout",
     "output_type": "stream",
     "text": [
      "{\n",
      "     \"coord\": {\n",
      "          \"lon\": -0.13,\n",
      "          \"lat\": 51.51\n",
      "     },\n",
      "     \"weather\": [\n",
      "          {\n",
      "               \"id\": 300,\n",
      "               \"main\": \"Drizzle\",\n",
      "               \"description\": \"light intensity drizzle\",\n",
      "               \"icon\": \"09d\"\n",
      "          }\n",
      "     ],\n",
      "     \"base\": \"stations\",\n",
      "     \"main\": {\n",
      "          \"temp\": 280.32,\n",
      "          \"pressure\": 1012,\n",
      "          \"humidity\": 81,\n",
      "          \"temp_min\": 279.15,\n",
      "          \"temp_max\": 281.15\n",
      "     },\n",
      "     \"visibility\": 10000,\n",
      "     \"wind\": {\n",
      "          \"speed\": 4.1,\n",
      "          \"deg\": 80\n",
      "     },\n",
      "     \"clouds\": {\n",
      "          \"all\": 90\n",
      "     },\n",
      "     \"dt\": 1485789600,\n",
      "     \"sys\": {\n",
      "          \"type\": 1,\n",
      "          \"id\": 5091,\n",
      "          \"message\": 0.0103,\n",
      "          \"country\": \"GB\",\n",
      "          \"sunrise\": 1485762037,\n",
      "          \"sunset\": 1485794875\n",
      "     },\n",
      "     \"id\": 2643743,\n",
      "     \"name\": \"London\",\n",
      "     \"cod\": 200\n",
      "}\n"
     ]
    }
   ],
   "source": [
    "#data.content.decode('UTF-8')\n",
    "#print(data.url)\n",
    "x=data.json()\n",
    "print(json.dumps(x,indent=5))"
   ]
  },
  {
   "cell_type": "code",
   "execution_count": null,
   "metadata": {},
   "outputs": [],
   "source": []
  },
  {
   "cell_type": "code",
   "execution_count": null,
   "metadata": {},
   "outputs": [],
   "source": []
  },
  {
   "cell_type": "code",
   "execution_count": null,
   "metadata": {},
   "outputs": [],
   "source": []
  },
  {
   "cell_type": "code",
   "execution_count": null,
   "metadata": {},
   "outputs": [],
   "source": []
  },
  {
   "cell_type": "code",
   "execution_count": null,
   "metadata": {},
   "outputs": [],
   "source": []
  }
 ],
 "metadata": {
  "kernelspec": {
   "display_name": "Python 3",
   "language": "python",
   "name": "python3"
  },
  "language_info": {
   "codemirror_mode": {
    "name": "ipython",
    "version": 3
   },
   "file_extension": ".py",
   "mimetype": "text/x-python",
   "name": "python",
   "nbconvert_exporter": "python",
   "pygments_lexer": "ipython3",
   "version": "3.7.1"
  }
 },
 "nbformat": 4,
 "nbformat_minor": 2
}
